{
 "cells": [
  {
   "cell_type": "markdown",
   "metadata": {},
   "source": [
    "# Basic Neural Network Modifications and Their Effects\n",
    "\n",
    "## This a set of tests to see how changing a simple neural network affects its accuracy, loss, and training time. The tests are based on an example in section 3.4 of Francois Chollet's book *Deep Learning with Python* and its recommendations for experiments"
   ]
  },
  {
   "cell_type": "code",
   "execution_count": 1,
   "metadata": {},
   "outputs": [],
   "source": [
    "import numpy as np"
   ]
  },
  {
   "cell_type": "code",
   "execution_count": 2,
   "metadata": {},
   "outputs": [
    {
     "name": "stderr",
     "output_type": "stream",
     "text": [
      "Using TensorFlow backend.\n"
     ]
    }
   ],
   "source": [
    "from keras.datasets import imdb\n",
    "from keras import models, layers"
   ]
  },
  {
   "cell_type": "code",
   "execution_count": 3,
   "metadata": {},
   "outputs": [],
   "source": [
    "import matplotlib.pyplot as plt"
   ]
  },
  {
   "cell_type": "code",
   "execution_count": 4,
   "metadata": {},
   "outputs": [],
   "source": [
    "from timeit import default_timer"
   ]
  },
  {
   "cell_type": "code",
   "execution_count": 5,
   "metadata": {},
   "outputs": [],
   "source": [
    "(train_data, train_labels), (test_data, test_labels) = imdb.load_data(num_words=10000)"
   ]
  },
  {
   "cell_type": "code",
   "execution_count": 6,
   "metadata": {},
   "outputs": [],
   "source": [
    "def vectorize_sequences(sequences, dimension=10000):\n",
    "    results = np.zeros((len(sequences), dimension))\n",
    "    for i, sequence in enumerate(sequences):\n",
    "        results[i, sequence] = 1.\n",
    "    return results"
   ]
  },
  {
   "cell_type": "code",
   "execution_count": 7,
   "metadata": {},
   "outputs": [],
   "source": [
    "x_train = vectorize_sequences(train_data)\n",
    "x_test = vectorize_sequences(test_data)\n",
    "\n",
    "y_train = np.asarray(train_labels).astype('float32')\n",
    "y_test = np.asarray(test_labels).astype('float32')"
   ]
  },
  {
   "cell_type": "code",
   "execution_count": 8,
   "metadata": {},
   "outputs": [],
   "source": [
    "number_of_tests = 9\n",
    "\n",
    "training_times = np.zeros(number_of_tests + 1)\n",
    "test_accuracies = np.zeros(number_of_tests + 1)\n",
    "\n",
    "test_number = 1"
   ]
  },
  {
   "cell_type": "code",
   "execution_count": 9,
   "metadata": {},
   "outputs": [
    {
     "name": "stdout",
     "output_type": "stream",
     "text": [
      "WARNING:tensorflow:From C:\\Users\\joeyn\\Anaconda3\\lib\\site-packages\\tensorflow\\python\\framework\\op_def_library.py:263: colocate_with (from tensorflow.python.framework.ops) is deprecated and will be removed in a future version.\n",
      "Instructions for updating:\n",
      "Colocations handled automatically by placer.\n"
     ]
    }
   ],
   "source": [
    "model_1 = models.Sequential()\n",
    "model_1.add(layers.Dense(16, activation='relu', input_shape=(10000,)))\n",
    "model_1.add(layers.Dense(16, activation='relu'))\n",
    "model_1.add(layers.Dense(1, activation='sigmoid'))\n",
    "\n",
    "model_1.compile(optimizer='rmsprop', loss='binary_crossentropy', metrics=['accuracy'])"
   ]
  },
  {
   "cell_type": "code",
   "execution_count": 10,
   "metadata": {},
   "outputs": [],
   "source": [
    "x_val = x_train[:10000]\n",
    "partial_x_train = x_train[10000:]\n",
    "\n",
    "y_val = y_train[:10000]\n",
    "partial_y_train = y_train[10000:]"
   ]
  },
  {
   "cell_type": "code",
   "execution_count": 12,
   "metadata": {},
   "outputs": [
    {
     "name": "stdout",
     "output_type": "stream",
     "text": [
      "WARNING:tensorflow:From C:\\Users\\joeyn\\Anaconda3\\lib\\site-packages\\tensorflow\\python\\ops\\math_ops.py:3066: to_int32 (from tensorflow.python.ops.math_ops) is deprecated and will be removed in a future version.\n",
      "Instructions for updating:\n",
      "Use tf.cast instead.\n",
      "Train on 15000 samples, validate on 10000 samples\n",
      "Epoch 1/20\n",
      "15000/15000 [==============================] - 6s 382us/step - loss: 0.4976 - acc: 0.7957 - val_loss: 0.3718 - val_acc: 0.8718\n",
      "Epoch 2/20\n",
      "15000/15000 [==============================] - 4s 272us/step - loss: 0.2958 - acc: 0.9046 - val_loss: 0.2991 - val_acc: 0.8905\n",
      "Epoch 3/20\n",
      "15000/15000 [==============================] - 4s 259us/step - loss: 0.2160 - acc: 0.9286 - val_loss: 0.3085 - val_acc: 0.8719\n",
      "Epoch 4/20\n",
      "15000/15000 [==============================] - 4s 261us/step - loss: 0.1741 - acc: 0.9431 - val_loss: 0.2831 - val_acc: 0.8846\n",
      "Epoch 5/20\n",
      "15000/15000 [==============================] - 4s 272us/step - loss: 0.1414 - acc: 0.9543 - val_loss: 0.2863 - val_acc: 0.8851\n",
      "Epoch 6/20\n",
      "15000/15000 [==============================] - 4s 276us/step - loss: 0.1142 - acc: 0.9655 - val_loss: 0.3077 - val_acc: 0.8816\n",
      "Epoch 7/20\n",
      "15000/15000 [==============================] - 4s 282us/step - loss: 0.0969 - acc: 0.9709 - val_loss: 0.3148 - val_acc: 0.8843\n",
      "Epoch 8/20\n",
      "15000/15000 [==============================] - 4s 267us/step - loss: 0.0802 - acc: 0.9764 - val_loss: 0.3871 - val_acc: 0.8658\n",
      "Epoch 9/20\n",
      "15000/15000 [==============================] - 4s 289us/step - loss: 0.0657 - acc: 0.9821 - val_loss: 0.3652 - val_acc: 0.8780\n",
      "Epoch 10/20\n",
      "15000/15000 [==============================] - 4s 282us/step - loss: 0.0554 - acc: 0.9850 - val_loss: 0.3866 - val_acc: 0.8788\n",
      "Epoch 11/20\n",
      "15000/15000 [==============================] - 4s 265us/step - loss: 0.0454 - acc: 0.9885 - val_loss: 0.4185 - val_acc: 0.8762\n",
      "Epoch 12/20\n",
      "15000/15000 [==============================] - 4s 268us/step - loss: 0.0386 - acc: 0.9912 - val_loss: 0.4522 - val_acc: 0.8699\n",
      "Epoch 13/20\n",
      "15000/15000 [==============================] - 4s 281us/step - loss: 0.0298 - acc: 0.9939 - val_loss: 0.4717 - val_acc: 0.8733\n",
      "Epoch 14/20\n",
      "15000/15000 [==============================] - 4s 263us/step - loss: 0.0244 - acc: 0.9949 - val_loss: 0.5029 - val_acc: 0.8717\n",
      "Epoch 15/20\n",
      "15000/15000 [==============================] - 4s 260us/step - loss: 0.0185 - acc: 0.9973 - val_loss: 0.5325 - val_acc: 0.8699\n",
      "Epoch 16/20\n",
      "15000/15000 [==============================] - 4s 266us/step - loss: 0.0159 - acc: 0.9981 - val_loss: 0.5716 - val_acc: 0.8695\n",
      "Epoch 17/20\n",
      "15000/15000 [==============================] - 4s 265us/step - loss: 0.0131 - acc: 0.9986 - val_loss: 0.6027 - val_acc: 0.8675\n",
      "Epoch 18/20\n",
      "15000/15000 [==============================] - 4s 261us/step - loss: 0.0106 - acc: 0.9983 - val_loss: 0.6348 - val_acc: 0.8670\n",
      "Epoch 19/20\n",
      "15000/15000 [==============================] - 4s 263us/step - loss: 0.0099 - acc: 0.9979 - val_loss: 0.6656 - val_acc: 0.8656\n",
      "Epoch 20/20\n",
      "15000/15000 [==============================] - 4s 263us/step - loss: 0.0045 - acc: 0.9997 - val_loss: 0.6945 - val_acc: 0.8645\n",
      "25000/25000 [==============================] - 6s 244us/step\n"
     ]
    }
   ],
   "source": [
    "model_1.compile(optimizer='rmsprop', loss='binary_crossentropy', metrics=['acc'])\n",
    "\n",
    "training_times[test_number] = default_timer()\n",
    "history_1 = model_1.fit(partial_x_train, partial_y_train, epochs=20, batch_size=512, validation_data=(x_val, y_val))\n",
    "training_times[test_number] = default_timer() - training_times[test_number]\n",
    "\n",
    "loss, test_accuracies[test_number] = model_1.evaluate(x_test, y_test)"
   ]
  },
  {
   "cell_type": "code",
   "execution_count": 13,
   "metadata": {},
   "outputs": [
    {
     "data": {
      "image/png": "[encoded data removed]",
      "text/plain": [
       "<Figure size 432x288 with 1 Axes>"
      ]
     },
     "metadata": {
      "needs_background": "light"
     },
     "output_type": "display_data"
    }
   ],
   "source": [
    "history_dict = history_1.history\n",
    "loss_values = history_dict['loss']\n",
    "val_loss_values = history_dict['val_loss']\n",
    "acc_values = history_dict['acc']\n",
    "\n",
    "epochs = range(1, len(acc_values) + 1)\n",
    "\n",
    "plt.plot(epochs, loss_values, 'bo', label='Training loss')\n",
    "plt.plot(epochs, val_loss_values, 'b', label='Validation loss')\n",
    "plt.title('Training and validation loss')\n",
    "plt.xlabel('Epochs')\n",
    "plt.ylabel('Loss')\n",
    "plt.legend()\n",
    "\n",
    "plt.show()"
   ]
  },
  {
   "cell_type": "code",
   "execution_count": 15,
   "metadata": {},
   "outputs": [
    {
     "data": {
      "image/png": "[encoded data removed]",
      "text/plain": [
       "<Figure size 432x288 with 1 Axes>"
      ]
     },
     "metadata": {
      "needs_background": "light"
     },
     "output_type": "display_data"
    }
   ],
   "source": [
    "plt.clf()\n",
    "\n",
    "val_acc_values = history_dict['val_acc']\n",
    "\n",
    "plt.plot(epochs, acc_values, 'bo', label='Training acc')\n",
    "plt.plot(epochs, val_acc_values, 'b', label='Validation acc')\n",
    "plt.title('Training and validation accuracy')\n",
    "plt.xlabel('Epochs')\n",
    "plt.ylabel('Accuracy')\n",
    "plt.legend()\n",
    "\n",
    "plt.show()"
   ]
  },
  {
   "cell_type": "code",
   "execution_count": 16,
   "metadata": {},
   "outputs": [],
   "source": [
    "def graph_loss_and_accuracy(training_data):\n",
    "    history_dict = training_data.history\n",
    "    loss_values = history_dict['loss']\n",
    "    acc_values = history_dict['acc']\n",
    "\n",
    "    epochs = range(1, len(acc_values) + 1)\n",
    "\n",
    "    plt.clf()\n",
    "    \n",
    "    plt.plot(epochs, loss_values, 'ro', label='Training loss')\n",
    "    plt.plot(epochs, acc_values, 'bo', label='Training accuracy')\n",
    "    plt.title('Training and validation loss')\n",
    "    plt.xlabel('Epochs')\n",
    "    plt.ylabel('Loss')\n",
    "    plt.legend()\n",
    "\n",
    "    plt.show()"
   ]
  },
  {
   "cell_type": "code",
   "execution_count": 17,
   "metadata": {},
   "outputs": [
    {
     "name": "stdout",
     "output_type": "stream",
     "text": [
      "Loss:0.7558236665701866Accuracy:0.85156\n"
     ]
    },
    {
     "data": {
      "image/png": "[encoded data removed]",
      "text/plain": [
       "<Figure size 432x288 with 1 Axes>"
      ]
     },
     "metadata": {
      "needs_background": "light"
     },
     "output_type": "display_data"
    }
   ],
   "source": [
    "print('Loss:' + str(loss) + 'Accuracy:' + str(test_accuracies[test_number]))\n",
    "graph_loss_and_accuracy(history_1)\n",
    "\n",
    "test_number += 1"
   ]
  },
  {
   "cell_type": "code",
   "execution_count": 18,
   "metadata": {},
   "outputs": [
    {
     "name": "stdout",
     "output_type": "stream",
     "text": [
      "Epoch 1/4\n",
      "25000/25000 [==============================] - 7s 272us/step - loss: 0.4749 - acc: 0.8217\n",
      "Epoch 2/4\n",
      "25000/25000 [==============================] - 5s 198us/step - loss: 0.2666 - acc: 0.9095\n",
      "Epoch 3/4\n",
      "25000/25000 [==============================] - 4s 176us/step - loss: 0.1986 - acc: 0.9294\n",
      "Epoch 4/4\n",
      "25000/25000 [==============================] - 4s 179us/step - loss: 0.1680 - acc: 0.9402\n",
      "25000/25000 [==============================] - 7s 290us/step\n"
     ]
    }
   ],
   "source": [
    "model_2 = models.Sequential()\n",
    "model_2.add(layers.Dense(16, activation='relu', input_shape=(10000,)))\n",
    "model_2.add(layers.Dense(16, activation='relu'))\n",
    "model_2.add(layers.Dense(1, activation='sigmoid'))\n",
    "\n",
    "model_2.compile(optimizer='rmsprop', loss='binary_crossentropy', metrics=['accuracy'])\n",
    "\n",
    "training_times[test_number] = default_timer()\n",
    "history_2 = model_2.fit(x_train, y_train, epochs=4, batch_size=512)\n",
    "training_times[test_number] = default_timer() - training_times[test_number]\n",
    "\n",
    "loss, test_accuracies[test_number] = model_2.evaluate(x_test, y_test)"
   ]
  },
  {
   "cell_type": "code",
   "execution_count": 19,
   "metadata": {},
   "outputs": [
    {
     "name": "stdout",
     "output_type": "stream",
     "text": [
      "Loss:0.324282718667984Accuracy:0.87296\n"
     ]
    },
    {
     "data": {
      "image/png": "[encoded data removed]",
      "text/plain": [
       "<Figure size 432x288 with 1 Axes>"
      ]
     },
     "metadata": {
      "needs_background": "light"
     },
     "output_type": "display_data"
    }
   ],
   "source": [
    "print('Loss:' + str(loss) + 'Accuracy:' + str(test_accuracies[test_number]))\n",
    "graph_loss_and_accuracy(history_2)\n",
    "\n",
    "test_number += 1"
   ]
  },
  {
   "cell_type": "code",
   "execution_count": 20,
   "metadata": {},
   "outputs": [
    {
     "name": "stdout",
     "output_type": "stream",
     "text": [
      "Epoch 1/4\n",
      "25000/25000 [==============================] - 5s 212us/step - loss: 0.4477 - acc: 0.8325\n",
      "Epoch 2/4\n",
      "25000/25000 [==============================] - 5s 189us/step - loss: 0.2797 - acc: 0.9077\n",
      "Epoch 3/4\n",
      "25000/25000 [==============================] - 4s 178us/step - loss: 0.2214 - acc: 0.9244\n",
      "Epoch 4/4\n",
      "25000/25000 [==============================] - 4s 176us/step - loss: 0.1878 - acc: 0.9354\n",
      "25000/25000 [==============================] - 5s 216us/step\n"
     ]
    }
   ],
   "source": [
    "model_3 = models.Sequential()\n",
    "model_3.add(layers.Dense(16, activation='relu', input_shape=(10000,)))\n",
    "model_3.add(layers.Dense(1, activation='sigmoid'))\n",
    "\n",
    "model_3.compile(optimizer='rmsprop', loss='binary_crossentropy', metrics=['accuracy'])\n",
    "\n",
    "training_times[test_number] = default_timer()\n",
    "history_3 = model_3.fit(x_train, y_train, epochs=4, batch_size=512)\n",
    "training_times[test_number] = default_timer() - training_times[test_number]\n",
    "\n",
    "loss, test_accuracies[test_number] = model_3.evaluate(x_test, y_test)"
   ]
  },
  {
   "cell_type": "code",
   "execution_count": 21,
   "metadata": {},
   "outputs": [
    {
     "name": "stdout",
     "output_type": "stream",
     "text": [
      "Loss:0.27894226531982425Accuracy:0.8888\n"
     ]
    },
    {
     "data": {
      "image/png": "[encoded data removed]",
      "text/plain": [
       "<Figure size 432x288 with 1 Axes>"
      ]
     },
     "metadata": {
      "needs_background": "light"
     },
     "output_type": "display_data"
    }
   ],
   "source": [
    "print('Loss:' + str(loss) + 'Accuracy:' + str(test_accuracies[test_number]))\n",
    "graph_loss_and_accuracy(history_3)\n",
    "\n",
    "test_number += 1"
   ]
  },
  {
   "cell_type": "code",
   "execution_count": 22,
   "metadata": {},
   "outputs": [
    {
     "name": "stdout",
     "output_type": "stream",
     "text": [
      "Epoch 1/4\n",
      "25000/25000 [==============================] - 5s 202us/step - loss: 0.4602 - acc: 0.8177\n",
      "Epoch 2/4\n",
      "25000/25000 [==============================] - 5s 181us/step - loss: 0.2506 - acc: 0.9108\n",
      "Epoch 3/4\n",
      "25000/25000 [==============================] - 5s 183us/step - loss: 0.2008 - acc: 0.9260\n",
      "Epoch 4/4\n",
      "25000/25000 [==============================] - 4s 172us/step - loss: 0.1647 - acc: 0.9408\n",
      "25000/25000 [==============================] - 5s 217us/step\n"
     ]
    }
   ],
   "source": [
    "model_4 = models.Sequential()\n",
    "model_4.add(layers.Dense(16, activation='relu', input_shape=(10000,)))\n",
    "model_4.add(layers.Dense(16, activation='relu'))\n",
    "model_4.add(layers.Dense(16, activation='relu'))\n",
    "model_4.add(layers.Dense(1, activation='sigmoid'))\n",
    "\n",
    "model_4.compile(optimizer='rmsprop', loss='binary_crossentropy', metrics=['accuracy'])\n",
    "\n",
    "training_times[test_number] = default_timer()\n",
    "history_4 = model_4.fit(x_train, y_train, epochs=4, batch_size=512)\n",
    "training_times[test_number] = default_timer() - training_times[test_number]\n",
    "\n",
    "loss, test_accuracies[test_number] = model_4.evaluate(x_test, y_test)"
   ]
  },
  {
   "cell_type": "code",
   "execution_count": 23,
   "metadata": {},
   "outputs": [
    {
     "name": "stdout",
     "output_type": "stream",
     "text": [
      "Loss:0.3076656979751587Accuracy:0.88016\n"
     ]
    },
    {
     "data": {
      "image/png": "[encoded data removed]",
      "text/plain": [
       "<Figure size 432x288 with 1 Axes>"
      ]
     },
     "metadata": {
      "needs_background": "light"
     },
     "output_type": "display_data"
    }
   ],
   "source": [
    "print('Loss:' + str(loss) + 'Accuracy:' + str(test_accuracies[test_number]))\n",
    "graph_loss_and_accuracy(history_4)\n",
    "\n",
    "test_number += 1"
   ]
  },
  {
   "cell_type": "code",
   "execution_count": 24,
   "metadata": {},
   "outputs": [
    {
     "name": "stdout",
     "output_type": "stream",
     "text": [
      "Epoch 1/4\n",
      "25000/25000 [==============================] - 5s 218us/step - loss: 0.4273 - acc: 0.8263\n",
      "Epoch 2/4\n",
      "25000/25000 [==============================] - 5s 181us/step - loss: 0.2414 - acc: 0.9114\n",
      "Epoch 3/4\n",
      "25000/25000 [==============================] - 4s 176us/step - loss: 0.1863 - acc: 0.9319\n",
      "Epoch 4/4\n",
      "25000/25000 [==============================] - 4s 177us/step - loss: 0.1595 - acc: 0.9407\n",
      "25000/25000 [==============================] - 5s 209us/step\n"
     ]
    }
   ],
   "source": [
    "model_5 = models.Sequential()\n",
    "model_5.add(layers.Dense(32, activation='relu', input_shape=(10000,)))\n",
    "model_5.add(layers.Dense(32, activation='relu'))\n",
    "model_5.add(layers.Dense(1, activation='sigmoid'))\n",
    "\n",
    "model_5.compile(optimizer='rmsprop', loss='binary_crossentropy', metrics=['accuracy'])\n",
    "\n",
    "training_times[test_number] = default_timer()\n",
    "history_5 = model_5.fit(x_train, y_train, epochs=4, batch_size=512)\n",
    "training_times[test_number] = default_timer() - training_times[test_number]\n",
    "\n",
    "loss, test_accuracies[test_number] = model_5.evaluate(x_test, y_test)"
   ]
  },
  {
   "cell_type": "code",
   "execution_count": 25,
   "metadata": {},
   "outputs": [
    {
     "name": "stdout",
     "output_type": "stream",
     "text": [
      "Loss:0.3319403140449524Accuracy:0.87272\n"
     ]
    },
    {
     "data": {
      "image/png": "[encoded data removed]",
      "text/plain": [
       "<Figure size 432x288 with 1 Axes>"
      ]
     },
     "metadata": {
      "needs_background": "light"
     },
     "output_type": "display_data"
    }
   ],
   "source": [
    "print('Loss:' + str(loss) + 'Accuracy:' + str(test_accuracies[test_number]))\n",
    "graph_loss_and_accuracy(history_5)\n",
    "\n",
    "test_number += 1"
   ]
  },
  {
   "cell_type": "code",
   "execution_count": 26,
   "metadata": {},
   "outputs": [
    {
     "name": "stdout",
     "output_type": "stream",
     "text": [
      "Epoch 1/4\n",
      "25000/25000 [==============================] - 7s 264us/step - loss: 0.4191 - acc: 0.8134\n",
      "Epoch 2/4\n",
      "25000/25000 [==============================] - 6s 226us/step - loss: 0.2412 - acc: 0.9072\n",
      "Epoch 3/4\n",
      "25000/25000 [==============================] - 5s 211us/step - loss: 0.1850 - acc: 0.9304\n",
      "Epoch 4/4\n",
      "25000/25000 [==============================] - 5s 214us/step - loss: 0.1462 - acc: 0.9462\n",
      "25000/25000 [==============================] - 6s 239us/step\n"
     ]
    }
   ],
   "source": [
    "model_6 = models.Sequential()\n",
    "model_6.add(layers.Dense(64, activation='relu', input_shape=(10000,)))\n",
    "model_6.add(layers.Dense(64, activation='relu'))\n",
    "model_6.add(layers.Dense(1, activation='sigmoid'))\n",
    "\n",
    "model_6.compile(optimizer='rmsprop', loss='binary_crossentropy', metrics=['accuracy'])\n",
    "\n",
    "training_times[test_number] = default_timer()\n",
    "history_6 = model_6.fit(x_train, y_train, epochs=4, batch_size=512)\n",
    "training_times[test_number] = default_timer() - training_times[test_number]\n",
    "\n",
    "loss, test_accuracies[test_number] = model_6.evaluate(x_test, y_test)"
   ]
  },
  {
   "cell_type": "code",
   "execution_count": 27,
   "metadata": {},
   "outputs": [
    {
     "name": "stdout",
     "output_type": "stream",
     "text": [
      "Loss:0.33008490878582003Accuracy:0.87628\n"
     ]
    },
    {
     "data": {
      "image/png": "[encoded data removed]",
      "text/plain": [
       "<Figure size 432x288 with 1 Axes>"
      ]
     },
     "metadata": {
      "needs_background": "light"
     },
     "output_type": "display_data"
    }
   ],
   "source": [
    "print('Loss:' + str(loss) + 'Accuracy:' + str(test_accuracies[test_number]))\n",
    "graph_loss_and_accuracy(history_6)\n",
    "\n",
    "test_number += 1"
   ]
  },
  {
   "cell_type": "code",
   "execution_count": 28,
   "metadata": {},
   "outputs": [
    {
     "name": "stdout",
     "output_type": "stream",
     "text": [
      "Epoch 1/4\n",
      "25000/25000 [==============================] - 5s 200us/step - loss: 0.5327 - acc: 0.7932\n",
      "Epoch 2/4\n",
      "25000/25000 [==============================] - 4s 159us/step - loss: 0.3334 - acc: 0.8986\n",
      "Epoch 3/4\n",
      "25000/25000 [==============================] - 4s 161us/step - loss: 0.2461 - acc: 0.9188\n",
      "Epoch 4/4\n",
      "25000/25000 [==============================] - 4s 159us/step - loss: 0.2004 - acc: 0.9329\n",
      "25000/25000 [==============================] - 5s 201us/step\n"
     ]
    }
   ],
   "source": [
    "model_7 = models.Sequential()\n",
    "model_7.add(layers.Dense(8, activation='relu', input_shape=(10000,)))\n",
    "model_7.add(layers.Dense(8, activation='relu'))\n",
    "model_7.add(layers.Dense(1, activation='sigmoid'))\n",
    "\n",
    "model_7.compile(optimizer='rmsprop', loss='binary_crossentropy', metrics=['accuracy'])\n",
    "\n",
    "training_times[test_number] = default_timer()\n",
    "history_7 = model_7.fit(x_train, y_train, epochs=4, batch_size=512)\n",
    "training_times[test_number] = default_timer() - training_times[test_number]\n",
    "\n",
    "loss, test_accuracies[test_number] = model_7.evaluate(x_test, y_test)"
   ]
  },
  {
   "cell_type": "code",
   "execution_count": 29,
   "metadata": {},
   "outputs": [
    {
     "name": "stdout",
     "output_type": "stream",
     "text": [
      "Loss:0.2872181939125061Accuracy:0.8852\n"
     ]
    },
    {
     "data": {
      "image/png": "[encoded data removed]",
      "text/plain": [
       "<Figure size 432x288 with 1 Axes>"
      ]
     },
     "metadata": {
      "needs_background": "light"
     },
     "output_type": "display_data"
    }
   ],
   "source": [
    "print('Loss:' + str(loss) + 'Accuracy:' + str(test_accuracies[test_number]))\n",
    "graph_loss_and_accuracy(history_7)\n",
    "\n",
    "test_number += 1"
   ]
  },
  {
   "cell_type": "code",
   "execution_count": 30,
   "metadata": {},
   "outputs": [
    {
     "name": "stdout",
     "output_type": "stream",
     "text": [
      "Epoch 1/4\n",
      "25000/25000 [==============================] - 5s 204us/step - loss: 0.1442 - acc: 0.8188\n",
      "Epoch 2/4\n",
      "25000/25000 [==============================] - 4s 165us/step - loss: 0.0774 - acc: 0.9106\n",
      "Epoch 3/4\n",
      "25000/25000 [==============================] - 4s 165us/step - loss: 0.0581 - acc: 0.9324\n",
      "Epoch 4/4\n",
      "25000/25000 [==============================] - 4s 165us/step - loss: 0.0480 - acc: 0.9445\n",
      "25000/25000 [==============================] - 5s 203us/step\n"
     ]
    }
   ],
   "source": [
    "model_8 = models.Sequential()\n",
    "model_8.add(layers.Dense(16, activation='relu', input_shape=(10000,)))\n",
    "model_8.add(layers.Dense(16, activation='relu'))\n",
    "model_8.add(layers.Dense(1, activation='sigmoid'))\n",
    "\n",
    "model_8.compile(optimizer='rmsprop', loss='mse', metrics=['accuracy'])\n",
    "\n",
    "training_times[test_number] = default_timer()\n",
    "history_8 = model_8.fit(x_train, y_train, epochs=4, batch_size=512)\n",
    "training_times[test_number] = default_timer() - training_times[test_number]\n",
    "\n",
    "loss, test_accuracies[test_number] = model_8.evaluate(x_test, y_test)"
   ]
  },
  {
   "cell_type": "code",
   "execution_count": 31,
   "metadata": {},
   "outputs": [
    {
     "name": "stdout",
     "output_type": "stream",
     "text": [
      "Loss:0.08598677134990693Accuracy:0.88416\n"
     ]
    },
    {
     "data": {
      "image/png": "[encoded data removed]",
      "text/plain": [
       "<Figure size 432x288 with 1 Axes>"
      ]
     },
     "metadata": {
      "needs_background": "light"
     },
     "output_type": "display_data"
    }
   ],
   "source": [
    "print('Loss:' + str(loss) + 'Accuracy:' + str(test_accuracies[test_number]))\n",
    "graph_loss_and_accuracy(history_8)\n",
    "\n",
    "test_number += 1"
   ]
  },
  {
   "cell_type": "code",
   "execution_count": 32,
   "metadata": {},
   "outputs": [
    {
     "name": "stdout",
     "output_type": "stream",
     "text": [
      "Epoch 1/4\n",
      "25000/25000 [==============================] - 6s 234us/step - loss: 0.4143 - acc: 0.8289\n",
      "Epoch 2/4\n",
      "25000/25000 [==============================] - 4s 170us/step - loss: 0.2308 - acc: 0.9134\n",
      "Epoch 3/4\n",
      "25000/25000 [==============================] - 4s 170us/step - loss: 0.1761 - acc: 0.9342\n",
      "Epoch 4/4\n",
      "25000/25000 [==============================] - 4s 170us/step - loss: 0.1501 - acc: 0.9449\n",
      "25000/25000 [==============================] - 5s 218us/step\n"
     ]
    }
   ],
   "source": [
    "model_9 = models.Sequential()\n",
    "model_9.add(layers.Dense(16, activation='tanh', input_shape=(10000,)))\n",
    "model_9.add(layers.Dense(16, activation='tanh'))\n",
    "model_9.add(layers.Dense(1, activation='sigmoid'))\n",
    "\n",
    "model_9.compile(optimizer='rmsprop', loss='binary_crossentropy', metrics=['accuracy'])\n",
    "\n",
    "training_times[test_number] = default_timer()\n",
    "history_9 = model_9.fit(x_train, y_train, epochs=4, batch_size=512)\n",
    "training_times[test_number] = default_timer() - training_times[test_number]\n",
    "\n",
    "loss, test_accuracies[test_number] = model_9.evaluate(x_test, y_test)"
   ]
  },
  {
   "cell_type": "code",
   "execution_count": 33,
   "metadata": {},
   "outputs": [
    {
     "name": "stdout",
     "output_type": "stream",
     "text": [
      "Loss:0.3312265526914597Accuracy:0.87564\n"
     ]
    },
    {
     "data": {
      "image/png": "[encoded data removed]",
      "text/plain": [
       "<Figure size 432x288 with 1 Axes>"
      ]
     },
     "metadata": {
      "needs_background": "light"
     },
     "output_type": "display_data"
    }
   ],
   "source": [
    "print('Loss:' + str(loss) + 'Accuracy:' + str(test_accuracies[test_number]))\n",
    "graph_loss_and_accuracy(history_9)\n",
    "\n",
    "test_number += 1"
   ]
  },
  {
   "cell_type": "code",
   "execution_count": 35,
   "metadata": {},
   "outputs": [
    {
     "name": "stdout",
     "output_type": "stream",
     "text": [
      "[ 0.         82.98883797 21.09790848 20.93703083 18.89358635 19.24259243\n",
      " 23.54982144 17.52497365 17.79077205 19.03311829]\n",
      "[0.      0.85156 0.87296 0.8888  0.88016 0.87272 0.87628 0.8852  0.88416\n",
      " 0.87564]\n"
     ]
    }
   ],
   "source": [
    "#TODO plot training time versus test accuracies\n",
    "\n",
    "print(training_times)\n",
    "print(test_accuracies)"
   ]
  },
  {
   "cell_type": "code",
   "execution_count": null,
   "metadata": {},
   "outputs": [],
   "source": []
  }
 ],
 "metadata": {
  "kernelspec": {
   "display_name": "Python 3",
   "language": "python",
   "name": "python3"
  },
  "language_info": {
   "codemirror_mode": {
    "name": "ipython",
    "version": 3
   },
   "file_extension": ".py",
   "mimetype": "text/x-python",
   "name": "python",
   "nbconvert_exporter": "python",
   "pygments_lexer": "ipython3",
   "version": "3.7.3"
  }
 },
 "nbformat": 4,
 "nbformat_minor": 2
}
